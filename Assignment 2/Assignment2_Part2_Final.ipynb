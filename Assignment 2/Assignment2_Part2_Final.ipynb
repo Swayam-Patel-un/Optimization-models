{
 "cells": [
  {
   "cell_type": "markdown",
   "id": "b5e05062",
   "metadata": {},
   "source": [
    "# Assignment 2\n",
    "## Longest Closed Path Problem\n",
    "\n",
    "By:<br>\n",
    "Dattaraj Salunkhe - 22B1296 | Swayam Patel - 22B1816 <br>\n",
    "Group 25"
   ]
  },
  {
   "cell_type": "code",
   "execution_count": 1,
   "id": "b2a747b8",
   "metadata": {},
   "outputs": [],
   "source": [
    "from pyomo.environ import *"
   ]
  },
  {
   "cell_type": "markdown",
   "id": "e165b4fd",
   "metadata": {},
   "source": [
    "### Defining the Graph"
   ]
  },
  {
   "cell_type": "markdown",
   "id": "db722ed7",
   "metadata": {},
   "source": [
    "We have approximated the given map by excluding the very small white roads. The nodes in the map are landmarks, buildings and some juctions are approximated. We have included a picture of the graph for convinience."
   ]
  },
  {
   "cell_type": "code",
   "execution_count": 2,
   "id": "7211d34e",
   "metadata": {},
   "outputs": [],
   "source": [
    "V = ['1', '2', '3', '4', '5', '6', '7', '8', '9', '10', '11', '12', '13', '14', '15', '16', '17', '18', '19', '20', '21', '22', '23', '24', '25', '26', '27', '28', '29', '30', '31', '32', '33', '34']  # Vertices in the graph\n",
    "\n",
    "E = [\n",
    "    ('1', '2'), ('2', '1'),\n",
    "    ('2', '3'), ('3', '2'),\n",
    "    ('3', '4'), ('4', '3'),\n",
    "    ('4', '5'), ('5', '4'),\n",
    "    ('4', '7'), ('7', '4'),\n",
    "    ('5', '6'), ('6', '5'),\n",
    "    ('6', '7'), ('7', '6'),\n",
    "    ('7', '8'), ('8', '7'),\n",
    "    ('8', '9'), ('9', '8'),\n",
    "    ('8', '10'), ('10', '8'),\n",
    "    ('9', '11'), ('11', '9'),\n",
    "    ('11', '12'), ('12', '11'),\n",
    "    ('12', '13'), ('13', '12'),\n",
    "    ('13', '14'), ('14', '13'),\n",
    "    ('14', '34'), ('34', '14'),\n",
    "    ('34', '15'), ('15', '34'),\n",
    "    ('15', '1'), ('1', '15'),\n",
    "    ('1', '29'), ('29', '1'),\n",
    "    ('29', '28'), ('28', '29'),\n",
    "    ('28', '26'), ('26', '28'),\n",
    "    ('26', '6'), ('6', '26'),\n",
    "    ('29', '30'), ('30', '29'),\n",
    "    ('30', '2'), ('2', '30'),\n",
    "    ('2', '32'), ('32', '2'),\n",
    "    ('32', '3'), ('3', '32'),\n",
    "    ('30', '31'), ('31', '30'),\n",
    "    ('31', '5'), ('5', '31'),\n",
    "    ('31', '32'), ('32', '31'),\n",
    "    ('14', '21'), ('21', '14'),\n",
    "    ('21', '12'), ('12', '21'),\n",
    "    ('21', '33'), ('33', '21'),\n",
    "    ('34', '17'), ('17', '34'),\n",
    "    ('17', '33'), ('33', '17'),\n",
    "    ('33', '20'), ('20', '33'),\n",
    "    ('20', '11'), ('11', '20'),\n",
    "    ('17', '16'), ('16', '17'),\n",
    "    ('16', '15'), ('15', '16'),\n",
    "    ('16', '18'), ('18', '16'),\n",
    "    ('18', '19'), ('19', '18'),\n",
    "    ('18', '27'), ('27', '18'),\n",
    "    ('20', '19'), ('19', '20'),\n",
    "    ('19', '22'), ('22', '19'),\n",
    "    ('22', '10'), ('10', '22'),\n",
    "    ('22', '23'), ('23', '22'),\n",
    "    ('23', '9'), ('9', '23'),\n",
    "    ('20', '23'), ('23', '20'),\n",
    "    ('27', '24'), ('24', '27'),\n",
    "    ('27', '28'), ('28', '27'),\n",
    "    ('24', '19'), ('19', '24'),\n",
    "    ('24', '25'), ('25', '24'),\n",
    "    ('25', '26'), ('26', '25')\n",
    "]\n",
    "\n",
    "edge_lengths = {\n",
    "    ('1', '2'): 700, ('2', '1'): 700,\n",
    "    ('2', '3'): 425, ('3', '2'): 425,\n",
    "    ('3', '4'): 35, ('4', '3'): 35,\n",
    "    ('4', '5'): 25, ('5', '4'): 25,\n",
    "    ('4', '7'): 900, ('7', '4'): 900,\n",
    "    ('5', '6'): 270, ('6', '5'): 270,\n",
    "    ('6', '7'): 500, ('7', '6'): 500,\n",
    "    ('7', '8'): 230, ('8', '7'): 230,\n",
    "    ('8', '9'): 180, ('9', '8'): 180,\n",
    "    ('8', '10'): 250, ('10', '8'): 250,\n",
    "    ('9', '11'): 100, ('11', '9'): 100,\n",
    "    ('11', '12'): 20, ('12', '11'): 20,\n",
    "    ('12', '13'): 245, ('13', '12'): 245,\n",
    "    ('13', '14'): 120, ('14', '13'): 120,\n",
    "    ('14', '34'): 30, ('34', '14'): 30,\n",
    "    ('34', '15'): 25, ('15', '34'): 25,\n",
    "    ('15', '1'): 850, ('1', '15'): 850,\n",
    "    ('1', '29'): 450, ('29', '1'): 450,\n",
    "    ('29', '28'): 30, ('28', '29'): 30,\n",
    "    ('28', '26'): 60, ('26', '28'): 60,\n",
    "    ('26', '6'): 85, ('6', '26'): 85,\n",
    "    ('29', '30'): 70, ('30', '29'): 70,\n",
    "    ('30', '2'): 210, ('2', '30'): 210,\n",
    "    ('2', '32'): 90, ('32', '2'): 90,\n",
    "    ('32', '3'): 300, ('3', '32'): 300,\n",
    "    ('30', '31'): 90, ('31', '30'): 90,\n",
    "    ('31', '5'): 270, ('5', '31'): 270,\n",
    "    ('31', '32'): 110, ('32', '31'): 110,\n",
    "    ('14', '21'): 45, ('21', '14'): 45,\n",
    "    ('21', '12'): 30, ('12', '21'): 30,\n",
    "    ('21', '33'): 40, ('33', '21'): 40,\n",
    "    ('34', '17'): 25, ('17', '34'): 25,\n",
    "    ('17', '33'): 20, ('33', '17'): 20,\n",
    "    ('33', '20'): 23, ('20', '33'): 23,\n",
    "    ('20', '11'): 70, ('11', '20'): 70,\n",
    "    ('17', '16'): 30, ('16', '17'): 30,\n",
    "    ('16', '15'): 20, ('15', '16'): 20,\n",
    "    ('16', '18'): 40, ('18', '16'): 40,\n",
    "    ('18', '19'): 17, ('19', '18'): 17,\n",
    "    ('18', '27'): 195, ('27', '18'): 195,\n",
    "    ('20', '19'): 110, ('19', '20'): 110,\n",
    "    ('19', '22'): 100, ('22', '19'): 100,\n",
    "    ('22', '10'): 20, ('10', '22'): 20,\n",
    "    ('22', '23'): 120, ('23', '22'): 120,\n",
    "    ('23', '9'): 70, ('9', '23'): 70,\n",
    "    ('20', '23'): 80, ('23', '20'): 80,\n",
    "    ('27', '24'): 15, ('24', '27'): 15,\n",
    "    ('27', '28'): 20, ('28', '27'): 20,\n",
    "    ('24', '19'): 80, ('19', '24'): 80,\n",
    "    ('24', '25'): 60, ('25', '24'): 60,\n",
    "    ('25', '26'): 100, ('26', '25'): 100\n",
    "}"
   ]
  },
  {
   "cell_type": "markdown",
   "id": "b0e66ca1",
   "metadata": {},
   "source": [
    "![title](graph.png)"
   ]
  },
  {
   "cell_type": "markdown",
   "id": "631f9bba",
   "metadata": {},
   "source": [
    "### Creating a model in Pyomo and defining decision variables"
   ]
  },
  {
   "cell_type": "code",
   "execution_count": 3,
   "id": "d7f6e43d",
   "metadata": {},
   "outputs": [],
   "source": [
    "# Create a Pyomo model\n",
    "model = ConcreteModel()\n",
    "\n",
    "model.V = Set(initialize=V)\n",
    "model.E = Set(initialize=E, dimen=2)\n",
    "\n",
    "# Parameters\n",
    "model.l = Param(model.E, initialize=edge_lengths)\n",
    "\n",
    "# Decision variables\n",
    "model.x = Var(model.E, within=Binary)  # Binary variable for edge usage\n",
    "model.y = Var(model.V, within=Binary)  # Binary variable for vertex usage\n",
    "model.u = Var(model.V, bounds=(1, len(V)), within=NonNegativeReals)  # Subtour elimination using MTZ variables"
   ]
  },
  {
   "cell_type": "markdown",
   "id": "25be738c",
   "metadata": {},
   "source": [
    "### Explanation\n",
    "\n",
    "- **Edge Selection Variable (x[i,j])**:  \n",
    "  This binary variable indicates whether the edge (i,j) belongs to E is part of the solution.  \n",
    "  $$\n",
    "  x[i,j] = \n",
    "  \\begin{cases} \n",
    "  1 & \\text{if edge } (i,j) \\text{ is selected} \\\\\n",
    "  0 & \\text{otherwise}\n",
    "  \\end{cases}\n",
    "  $$\n",
    "\n",
    "- **Vertex Selection Variable (y[i])**:  \n",
    "  This binary variable indicates whether vertex i belongs to V is included in the cycle.  \n",
    "  $$\n",
    "  y[i] = \n",
    "  \\begin{cases} \n",
    "  1 & \\text{if vertex } i \\text{ is part of the cycle} \\\\\n",
    "  0 & \\text{otherwise}\n",
    "  \\end{cases}\n",
    "  $$\n",
    "\n",
    "- **MTZ Variables (u[i])**:  \n",
    "  These continuous variables are used to prevent subtours. They define an ordering of vertices in the cycle to ensure connectivity and enforce that the selected edges form a single cycle. u[i] is constrained between 1 and |V|, the number of vertices.\n"
   ]
  },
  {
   "cell_type": "markdown",
   "id": "838f5859",
   "metadata": {},
   "source": [
    "### Objective Function"
   ]
  },
  {
   "cell_type": "code",
   "execution_count": 4,
   "id": "41375cf7",
   "metadata": {},
   "outputs": [],
   "source": [
    "# Objective function: Maximize the total length of the selected edges\n",
    "def objective_rule(model):\n",
    "    return sum(model.l[i, j] * model.x[i, j] for i, j in model.E)\n",
    "model.obj = Objective(rule=objective_rule, sense=maximize)"
   ]
  },
  {
   "cell_type": "markdown",
   "id": "e71d60f3",
   "metadata": {},
   "source": [
    "### Explanation\n",
    "\n",
    "- **Objective Function (Maximization of Total Edge Length)**:  \n",
    "  The goal is to maximize the total length of the edges selected in the cycle. Each edge (i, j) has a corresponding length l[i,j], and a binary decision variable x[i,j] indicates whether the edge is included in the solution. The objective function sums the lengths of all selected edges:\n",
    "\n",
    "  $$\n",
    "  \\text{Maximize} \\quad \\sum_{(i,j) \\in E} l[i,j] \\cdot x[i,j]\n",
    "  $$\n",
    "\n",
    "  Here, l[i,j] represents the length of the edge from vertex i to vertex j, and x[i,j] = 1 if the edge (i, j) is selected, and x[i,j] = 0 otherwise. The function seeks to maximize the total sum of the selected edge lengths, finding the longest possible cycle in the graph.\n"
   ]
  },
  {
   "cell_type": "markdown",
   "id": "f06bd133",
   "metadata": {},
   "source": [
    "### Constraints"
   ]
  },
  {
   "cell_type": "code",
   "execution_count": 5,
   "id": "63b52f25",
   "metadata": {
    "scrolled": false
   },
   "outputs": [],
   "source": [
    "# Constraints:\n",
    "\n",
    "# Flow conservation: Inflow must equal outflow for each vertex\n",
    "def flow_conservation_rule(model, i):\n",
    "    return sum(model.x[i, j] for j in model.V if (i, j) in model.E) == sum(model.x[j, i] for j in model.V if (j, i) in model.E)\n",
    "model.flow_conservation = Constraint(model.V, rule=flow_conservation_rule)\n",
    "\n",
    "# Degree constraint: Each vertex in the cycle must have exactly two edges (1 in, 1 out)\n",
    "def degree_rule(model, i):\n",
    "    return sum(model.x[i, j] + model.x[j, i] for j in model.V if (i, j) in model.E or (j, i) in model.E) == 2 * model.y[i]\n",
    "model.degree = Constraint(model.V, rule=degree_rule)\n",
    "\n",
    "# MTZ subtour elimination constraints\n",
    "def mtz_rule(model, i, j):\n",
    "    if i != '1' and j != '1' and (i, j) in model.E:\n",
    "        return model.u[i] - model.u[j] + len(V) * model.x[i, j] <= len(V) - 1\n",
    "    return Constraint.Skip\n",
    "model.mtz = Constraint(model.V, model.V, rule=mtz_rule)\n",
    "\n",
    "# Ensure at least one edge is selected\n",
    "model.force_edges = Constraint(expr=sum(model.x[i, j] for i, j in model.E) >= 1)"
   ]
  },
  {
   "cell_type": "markdown",
   "id": "596e7e43",
   "metadata": {},
   "source": [
    "### Explanation\n",
    "\n",
    "- **Flow Conservation**:  \n",
    "  This constraint ensures that the inflow equals the outflow for each vertex (i belongs to V). For each vertex i, the sum of flows on the outgoing edges is equal to the sum of flows on the incoming edges:\n",
    "\n",
    "  $$\n",
    "  \\sum_{j \\in V: (i,j) \\in E} x[i,j] = \\sum_{j \\in V: (j,i) \\in E} x[j,i] \\quad \\forall i \\in V\n",
    "  $$\n",
    "\n",
    "- **Degree Constraint**:  \n",
    "  Each vertex in the cycle must have exactly two edges—one incoming and one outgoing. This is ensured by requiring the sum of the binary decision variables x[i,j] (indicating edge usage) for all edges connected to vertex i to equal twice the vertex decision variable y[i]:\n",
    "\n",
    "  $$\n",
    "  \\sum_{j \\in V: (i,j) \\in E \\, \\text{or} \\, (j,i) \\in E} (x[i,j] + x[j,i]) = 2 \\cdot y[i] \\quad \\forall i \\in V\n",
    "  $$\n",
    "\n",
    "- **MTZ Subtour Elimination**:  \n",
    "  To prevent disconnected cycles (subtours), the MTZ formulation introduces variables u[i], which define an order for the vertices in the tour. For each pair of distinct vertices (i, j belongs to V) where there is an edge, the following constraint is imposed:\n",
    "\n",
    "  $$\n",
    "  u[i] - u[j] + |V| \\cdot x[i,j] \\leq |V| - 1 \\quad \\forall i \\neq j, \\, (i,j) \\in E\n",
    "  $$\n",
    "\n",
    "  This ensures that no subtours can form unless the edges between i and j are selected.\n",
    "\n",
    "- **Force Edge Selection**:  \n",
    "  This constraint ensures that at least one edge is selected in the final solution, preventing a trivial result of no edges being chosen:\n",
    "\n",
    "  $$\n",
    "  \\sum_{(i,j) \\in E} x[i,j] \\geq 1\n",
    "  $$\n"
   ]
  },
  {
   "cell_type": "markdown",
   "id": "f038f16e",
   "metadata": {},
   "source": [
    "### Solving and Displaying the Results"
   ]
  },
  {
   "cell_type": "code",
   "execution_count": 6,
   "id": "9948af02",
   "metadata": {
    "scrolled": true
   },
   "outputs": [
    {
     "name": "stdout",
     "output_type": "stream",
     "text": [
      "GLPSOL--GLPK LP/MIP Solver 5.0\n",
      "Parameter(s) specified in the command line:\n",
      " --write /var/folders/b9/cqzf91qd1cb5kkpcpbgg1pmm0000gn/T/tmptbjve51h.glpk.raw\n",
      " --wglp /var/folders/b9/cqzf91qd1cb5kkpcpbgg1pmm0000gn/T/tmpd0r3u8ez.glpk.glp\n",
      " --cpxlp /var/folders/b9/cqzf91qd1cb5kkpcpbgg1pmm0000gn/T/tmpw42ee7pa.pyomo.lp\n",
      "Reading problem data from '/var/folders/b9/cqzf91qd1cb5kkpcpbgg1pmm0000gn/T/tmpw42ee7pa.pyomo.lp'...\n",
      "/var/folders/b9/cqzf91qd1cb5kkpcpbgg1pmm0000gn/T/tmpw42ee7pa.pyomo.lp:1608: warning: lower bound of variable 'x2' redefined\n",
      "/var/folders/b9/cqzf91qd1cb5kkpcpbgg1pmm0000gn/T/tmpw42ee7pa.pyomo.lp:1608: warning: upper bound of variable 'x2' redefined\n",
      "165 rows, 169 columns, 832 non-zeros\n",
      "136 integer variables, all of which are binary\n",
      "1744 lines were read\n",
      "Writing problem data to '/var/folders/b9/cqzf91qd1cb5kkpcpbgg1pmm0000gn/T/tmpd0r3u8ez.glpk.glp'...\n",
      "1401 lines were written\n",
      "GLPK Integer Optimizer 5.0\n",
      "165 rows, 169 columns, 832 non-zeros\n",
      "136 integer variables, all of which are binary\n",
      "Preprocessing...\n",
      "165 rows, 169 columns, 832 non-zeros\n",
      "136 integer variables, all of which are binary\n",
      "Scaling...\n",
      " A: min|aij| =  1.000e+00  max|aij| =  3.400e+01  ratio =  3.400e+01\n",
      "GM: min|aij| =  8.900e-01  max|aij| =  1.124e+00  ratio =  1.262e+00\n",
      "EQ: min|aij| =  7.929e-01  max|aij| =  1.000e+00  ratio =  1.261e+00\n",
      "2N: min|aij| =  5.000e-01  max|aij| =  1.062e+00  ratio =  2.125e+00\n",
      "Constructing initial basis...\n",
      "Size of triangular part is 161\n",
      "Solving LP relaxation...\n",
      "GLPK Simplex Optimizer 5.0\n",
      "165 rows, 169 columns, 832 non-zeros\n",
      "      0: obj =  -0.000000000e+00 inf =   1.000e+00 (1)\n",
      "      2: obj =   3.064285714e+02 inf =   0.000e+00 (0)\n",
      "*    98: obj =   7.672205882e+03 inf =   1.092e-14 (0)\n",
      "OPTIMAL LP SOLUTION FOUND\n",
      "Integer optimization begins...\n",
      "Long-step dual simplex will be used\n",
      "+    98: mip =     not found yet <=              +inf        (1; 0)\n",
      "+   535: >>>>>   5.417000000e+03 <=   7.631000000e+03  40.9% (31; 1)\n",
      "+  9461: >>>>>   5.607000000e+03 <=   7.089000000e+03  26.4% (405; 114)\n",
      "+ 12535: >>>>>   5.757000000e+03 <=   7.002000000e+03  21.6% (508; 201)\n",
      "+ 13929: >>>>>   5.982000000e+03 <=   6.954000000e+03  16.2% (493; 328)\n",
      "+ 20828: >>>>>   5.987000000e+03 <=   6.752000000e+03  12.8% (528; 714)\n",
      "+ 65515: mip =   5.987000000e+03 <=     tree is empty   0.0% (0; 5569)\n",
      "INTEGER OPTIMAL SOLUTION FOUND\n",
      "Time used:   1.5 secs\n",
      "Memory used: 1.8 Mb (1900297 bytes)\n",
      "Writing MIP solution to '/var/folders/b9/cqzf91qd1cb5kkpcpbgg1pmm0000gn/T/tmptbjve51h.glpk.raw'...\n",
      "343 lines were written\n"
     ]
    }
   ],
   "source": [
    "# Solve the model\n",
    "solver = SolverFactory('glpk')\n",
    "result = solver.solve(model, tee=True)"
   ]
  },
  {
   "cell_type": "code",
   "execution_count": 7,
   "id": "a544608e",
   "metadata": {},
   "outputs": [
    {
     "name": "stdout",
     "output_type": "stream",
     "text": [
      "Status: ok\n",
      "Termination condition: optimal\n",
      "Selected edges in the longest cycle:\n",
      "Edge (2, 1) with length 700\n",
      "Edge (3, 2) with length 425\n",
      "Edge (4, 3) with length 35\n",
      "Edge (7, 4) with length 900\n",
      "Edge (5, 6) with length 270\n",
      "Edge (6, 7) with length 500\n",
      "Edge (9, 8) with length 180\n",
      "Edge (8, 10) with length 250\n",
      "Edge (11, 9) with length 100\n",
      "Edge (12, 11) with length 20\n",
      "Edge (13, 12) with length 245\n",
      "Edge (14, 13) with length 120\n",
      "Edge (1, 15) with length 850\n",
      "Edge (28, 29) with length 30\n",
      "Edge (26, 28) with length 60\n",
      "Edge (29, 30) with length 70\n",
      "Edge (30, 31) with length 90\n",
      "Edge (31, 5) with length 270\n",
      "Edge (21, 14) with length 45\n",
      "Edge (33, 21) with length 40\n",
      "Edge (17, 33) with length 20\n",
      "Edge (16, 17) with length 30\n",
      "Edge (15, 16) with length 20\n",
      "Edge (19, 18) with length 17\n",
      "Edge (18, 27) with length 195\n",
      "Edge (20, 19) with length 110\n",
      "Edge (10, 22) with length 20\n",
      "Edge (22, 23) with length 120\n",
      "Edge (23, 20) with length 80\n",
      "Edge (27, 24) with length 15\n",
      "Edge (24, 25) with length 60\n",
      "Edge (25, 26) with length 100\n",
      "Total length of the longest cycle: 5987.0\n"
     ]
    }
   ],
   "source": [
    "# Output the results\n",
    "print(\"Status:\", result.solver.status)\n",
    "print(\"Termination condition:\", result.solver.termination_condition)\n",
    "\n",
    "# Print the selected edges\n",
    "print(\"Selected edges in the longest cycle:\")\n",
    "for i, j in model.E:\n",
    "    if model.x[i, j].value == 1:\n",
    "        print(f\"Edge ({i}, {j}) with length {model.l[i, j]}\")\n",
    "\n",
    "# Print the total length of the longest cycle\n",
    "print(f\"Total length of the longest cycle: {model.obj()}\")"
   ]
  },
  {
   "cell_type": "markdown",
   "id": "c7a0b08c",
   "metadata": {},
   "source": [
    "![title](finallongestpath.png)"
   ]
  }
 ],
 "metadata": {
  "kernelspec": {
   "display_name": "Python 3 (ipykernel)",
   "language": "python",
   "name": "python3"
  },
  "language_info": {
   "codemirror_mode": {
    "name": "ipython",
    "version": 3
   },
   "file_extension": ".py",
   "mimetype": "text/x-python",
   "name": "python",
   "nbconvert_exporter": "python",
   "pygments_lexer": "ipython3",
   "version": "3.10.9"
  }
 },
 "nbformat": 4,
 "nbformat_minor": 5
}
