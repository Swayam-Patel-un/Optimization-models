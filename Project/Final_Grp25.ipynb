{
 "cells": [
  {
   "cell_type": "markdown",
   "id": "8dbfdd4d",
   "metadata": {
    "id": "8dbfdd4d"
   },
   "source": [
    "# Final Project\n",
    "Group 25 <br>\n",
    "Swayam Patel | 22B1816 <br>\n",
    "Dattaraj Salunkhe | 22B1296"
   ]
  },
  {
   "cell_type": "markdown",
   "id": "58c59dee",
   "metadata": {
    "id": "58c59dee"
   },
   "source": [
    "## Importing Packages"
   ]
  },
  {
   "cell_type": "code",
   "execution_count": 34,
   "id": "f5cb7fa6",
   "metadata": {
    "id": "f5cb7fa6"
   },
   "outputs": [],
   "source": [
    "import networkx as nx\n",
    "from pyomo.environ import *\n",
    "import numpy as np\n",
    "import matplotlib.pyplot as plt\n",
    "from collections import Counter"
   ]
  },
  {
   "cell_type": "markdown",
   "id": "e5b9d9b4",
   "metadata": {
    "id": "e5b9d9b4"
   },
   "source": [
    "## Classical Facility Location Problem"
   ]
  },
  {
   "cell_type": "markdown",
   "id": "20f4eeaa",
   "metadata": {
    "id": "20f4eeaa"
   },
   "source": [
    "We first define a graph, then find the shortest paths between 2 points using the Djikstra's algorithm. In further parts, we have directly taken the shortest distance between any two points.<br>\n",
    "We then declare the capacities and demands for each location(these are the parameters). Then, we declare two decision variables, $x_{ij}$, which denotes whether center $j$ will serve location $i$, and $y_{i}$, which denotes whether location $i$ is a facility.The objective function minimizes the total distance covered to serve all the locations."
   ]
  },
  {
   "cell_type": "code",
   "execution_count": 35,
   "id": "3dc43e34",
   "metadata": {
    "id": "3dc43e34"
   },
   "outputs": [],
   "source": [
    "# Define the graph using edge lists (larger, sparse graph)\n",
    "edges = [\n",
    "    ('L1', 'L2', 10), ('L2', 'L3', 15), ('L3', 'L4', 35),\n",
    "    ('L1', 'L3', 20), ('L4', 'L5', 25), ('L5', 'L6', 30),\n",
    "    ('L1', 'L5', 5), ('L4', 'L2', 35), ('L1', 'L6', 15)\n",
    "]\n",
    "\n",
    "# Create a graph and add edges with distances\n",
    "G = nx.Graph()\n",
    "G.add_weighted_edges_from(edges)\n",
    "\n",
    "# Compute all pairs shortest path distances using Dijkstra's algorithm\n",
    "shortest_paths = dict(nx.all_pairs_dijkstra_path_length(G))\n",
    "\n",
    "# Locations (nodes in the graph)\n",
    "locations = list(G.nodes)"
   ]
  },
  {
   "cell_type": "code",
   "execution_count": 36,
   "id": "4070e09a",
   "metadata": {
    "id": "4070e09a"
   },
   "outputs": [],
   "source": [
    "# Define the demands and capacities for each location\n",
    "demands = {'L1': 10, 'L2': 20, 'L3': 15, 'L4': 10, 'L5': 5, 'L6': 10}  # Demand at each location\n",
    "capacities = {'L1': 30, 'L2': 40, 'L3': 30, 'L4': 30, 'L5': 20, 'L6': 20}  # Capacity of each center\n",
    "k = 3  # Number of centers to open"
   ]
  },
  {
   "cell_type": "code",
   "execution_count": 37,
   "id": "acae8e3d",
   "metadata": {
    "id": "acae8e3d"
   },
   "outputs": [],
   "source": [
    "# Create a Pyomo model\n",
    "model = ConcreteModel()\n",
    "\n",
    "# Sets\n",
    "model.Locations = Set(initialize=locations)\n",
    "\n",
    "# Parameters\n",
    "model.Demand = Param(model.Locations, initialize=demands)\n",
    "model.Capacity = Param(model.Locations, initialize=capacities)"
   ]
  },
  {
   "cell_type": "code",
   "execution_count": 38,
   "id": "f6dcbc24",
   "metadata": {
    "id": "f6dcbc24"
   },
   "outputs": [],
   "source": [
    "# Convert shortest path distances into a format usable in Pyomo\n",
    "def distance_init(model, i, j):\n",
    "    # If there is no path between i and j, use a very large distance (infinity)\n",
    "    if i in shortest_paths and j in shortest_paths[i]:\n",
    "        return shortest_paths[i][j]\n",
    "    else:\n",
    "        return float('inf')  # If there's no path, treat it as unreachable\n",
    "\n",
    "model.Distance = Param(model.Locations, model.Locations, initialize=distance_init)"
   ]
  },
  {
   "cell_type": "code",
   "execution_count": 39,
   "id": "23fed00b",
   "metadata": {
    "id": "23fed00b"
   },
   "outputs": [],
   "source": [
    "# Decision variables\n",
    "model.x = Var(model.Locations, model.Locations, domain=Binary)  # Assignment variable\n",
    "model.y = Var(model.Locations, domain=Binary)  # Open center variable"
   ]
  },
  {
   "cell_type": "code",
   "execution_count": 40,
   "id": "e4054ef4",
   "metadata": {
    "id": "e4054ef4"
   },
   "outputs": [],
   "source": [
    "# Objective: Minimize total transportation cost (distance)\n",
    "def objective_rule(model):\n",
    "    return sum(model.Distance[i, j] * model.x[i, j] for i in model.Locations for j in model.Locations)\n",
    "model.objective = Objective(rule=objective_rule, sense=minimize)"
   ]
  },
  {
   "cell_type": "code",
   "execution_count": 41,
   "id": "60fec0f2",
   "metadata": {
    "id": "60fec0f2"
   },
   "outputs": [],
   "source": [
    "# Constraint 1: Each location is assigned to exactly one center\n",
    "def assignment_rule(model, i):\n",
    "    return sum(model.x[i, j] for j in model.Locations) == 1\n",
    "model.assignment_constraint = Constraint(model.Locations, rule=assignment_rule)\n",
    "\n",
    "# Constraint 2: The total demand assigned to any center does not exceed its capacity\n",
    "def capacity_rule(model, j):\n",
    "    return sum(model.Demand[i] * model.x[i, j] for i in model.Locations) <= model.Capacity[j] * model.y[j]\n",
    "model.capacity_constraint = Constraint(model.Locations, rule=capacity_rule)\n",
    "\n",
    "# Constraint 3: Ensure that location i is assigned to location j only if j is a distribution center\n",
    "def open_center_rule(model, i, j):\n",
    "    return model.x[i, j] <= model.y[j]\n",
    "model.open_center_constraint = Constraint(model.Locations, model.Locations, rule=open_center_rule)\n",
    "\n",
    "# Constraint 4: Exactly k distribution centers must be opened\n",
    "def number_of_centers_rule(model):\n",
    "    return sum(model.y[j] for j in model.Locations) == k\n",
    "model.num_centers_constraint = Constraint(rule=number_of_centers_rule)"
   ]
  },
  {
   "cell_type": "code",
   "execution_count": 42,
   "id": "c26ff5df",
   "metadata": {
    "colab": {
     "base_uri": "https://localhost:8080/"
    },
    "id": "c26ff5df",
    "outputId": "8756a58e-26d8-45f9-eaf8-8fded24b72c8"
   },
   "outputs": [
    {
     "name": "stdout",
     "output_type": "stream",
     "text": [
      "Selected Distribution Centers:\n",
      "Location L1 is selected as a distribution center.\n",
      "Location L2 is selected as a distribution center.\n",
      "Location L4 is selected as a distribution center.\n",
      "\n",
      "Assignments:\n",
      "Location L1 is assigned to center L1.\n",
      "Location L2 is assigned to center L2.\n",
      "Location L3 is assigned to center L2.\n",
      "Location L4 is assigned to center L4.\n",
      "Location L5 is assigned to center L1.\n",
      "Location L6 is assigned to center L1.\n"
     ]
    }
   ],
   "source": [
    "# Solve the model\n",
    "solver = SolverFactory('glpk')\n",
    "solver.solve(model)\n",
    "\n",
    "# Display the results\n",
    "print(\"Selected Distribution Centers:\")\n",
    "for j in model.Locations:\n",
    "    if model.y[j].value == 1:\n",
    "        print(f\"Location {j} is selected as a distribution center.\")\n",
    "\n",
    "print(\"\\nAssignments:\")\n",
    "for i in model.Locations:\n",
    "    for j in model.Locations:\n",
    "        if model.x[i, j].value == 1:\n",
    "            print(f\"Location {i} is assigned to center {j}.\")"
   ]
  },
  {
   "cell_type": "code",
   "execution_count": 43,
   "id": "c3f0af8b",
   "metadata": {
    "colab": {
     "base_uri": "https://localhost:8080/"
    },
    "id": "c3f0af8b",
    "outputId": "ad89db7b-0a35-4ec4-88e0-7befdbc4b4d3"
   },
   "outputs": [
    {
     "name": "stdout",
     "output_type": "stream",
     "text": [
      "Solver Status: ok\n",
      "Solver Termination Condition: optimal\n"
     ]
    }
   ],
   "source": [
    "#Checking if solver has reached optimum\n",
    "results = solver.solve(model)\n",
    "print(\"Solver Status:\", results.solver.status)\n",
    "print(\"Solver Termination Condition:\", results.solver.termination_condition)"
   ]
  },
  {
   "cell_type": "code",
   "execution_count": 44,
   "id": "7b25aff9",
   "metadata": {
    "colab": {
     "base_uri": "https://localhost:8080/"
    },
    "id": "7b25aff9",
    "outputId": "3b2eebd6-df02-4892-e963-8226d8f26b7a"
   },
   "outputs": [
    {
     "name": "stdout",
     "output_type": "stream",
     "text": [
      "Optimal Cost from Solver: 35.0\n",
      "Recalculated Cost: 35.0\n"
     ]
    }
   ],
   "source": [
    "#Another way to check if solver has reached optimum\n",
    "optimal_cost = sum(\n",
    "    model.Distance[i, j] * model.x[i, j].value\n",
    "    for i in model.Locations\n",
    "    for j in model.Locations\n",
    ")\n",
    "print(\"Optimal Cost from Solver:\", model.objective())\n",
    "print(\"Recalculated Cost:\", optimal_cost)"
   ]
  },
  {
   "cell_type": "markdown",
   "id": "4f4d67ac",
   "metadata": {
    "id": "4f4d67ac"
   },
   "source": [
    "Since both the costs are same, the solver has reached optimum."
   ]
  },
  {
   "cell_type": "markdown",
   "id": "960c0743",
   "metadata": {
    "id": "960c0743"
   },
   "source": [
    "## Non-Deterministic CFLP"
   ]
  },
  {
   "cell_type": "markdown",
   "id": "fa3ad68a",
   "metadata": {
    "id": "fa3ad68a"
   },
   "source": [
    "### Non-Deterministic Demand & Deterministic Capacity"
   ]
  },
  {
   "cell_type": "markdown",
   "id": "ee5f24ac",
   "metadata": {
    "id": "ee5f24ac"
   },
   "source": [
    "Continuing from the CFLP, we now declare the demand to be a normal distribution, with a particular mean and standard deviation. We run a similar algorithm many times and each time we take a different value of the demands from the distribution. Each iteration yields the appropriate number of optimum centers, and we count the number of times each center has been selected as optimum. It is also possible that since the demand is a distribution, the problem might be infeasible. In that case, that iteration is counted as infeasible, and no increment happens in any of the centers. Finally, we plot a histogram, and then choose the number of centers required as the centers which have been chosen the most in the iterations."
   ]
  },
  {
   "cell_type": "code",
   "execution_count": 45,
   "id": "8aa3fe4f",
   "metadata": {
    "id": "8aa3fe4f"
   },
   "outputs": [],
   "source": [
    "# Define locations and parameters\n",
    "locations = ['L1', 'L2', 'L3', 'L4']\n",
    "distances = {\n",
    "    ('L1', 'L1'): 0, ('L1', 'L2'): 10, ('L1', 'L3'): 20, ('L1', 'L4'): 30,\n",
    "    ('L2', 'L1'): 10, ('L2', 'L2'): 0, ('L2', 'L3'): 15, ('L2', 'L4'): 25,\n",
    "    ('L3', 'L1'): 20, ('L3', 'L2'): 15, ('L3', 'L3'): 0, ('L3', 'L4'): 35,\n",
    "    ('L4', 'L1'): 30, ('L4', 'L2'): 25, ('L4', 'L3'): 35, ('L4', 'L4'): 0\n",
    "}\n",
    "capacities = {'L1': 30, 'L2': 30, 'L3': 30, 'L4': 30}\n",
    "k = 2\n",
    "mean_demand = 14\n",
    "std_dev_demand = 2\n",
    "\n",
    "# Simulation parameters\n",
    "n_simulations = 2000  # Number of Monte Carlo simulations\n",
    "selected_centers_count = Counter()\n",
    "infeasible_count = 0"
   ]
  },
  {
   "cell_type": "code",
   "execution_count": 46,
   "id": "e40a103c",
   "metadata": {
    "id": "e40a103c"
   },
   "outputs": [],
   "source": [
    "# Monte Carlo simulation\n",
    "for sim in range(n_simulations):\n",
    "    # Generate random demands\n",
    "    demands = {loc: max(0, int(np.random.normal(mean_demand, std_dev_demand))) for loc in locations}\n",
    "    total_demand = sum(demands.values())\n",
    "    total_capacity = k * max(capacities.values())\n",
    "\n",
    "    if total_demand > total_capacity:\n",
    "        infeasible_count += 1\n",
    "        continue  # Skip this iteration if infeasible\n",
    "\n",
    "    # Create a Pyomo model\n",
    "    model = ConcreteModel()\n",
    "    model.Locations = Set(initialize=locations)\n",
    "    model.Demand = Param(model.Locations, initialize=demands)\n",
    "    model.Capacity = Param(model.Locations, initialize=capacities)\n",
    "    model.Distance = Param(model.Locations, model.Locations, initialize=distances)\n",
    "    model.x = Var(model.Locations, model.Locations, domain=Binary)\n",
    "    model.y = Var(model.Locations, domain=Binary)\n",
    "\n",
    "    # Objective\n",
    "    def objective_rule(model):\n",
    "        return sum(model.Distance[i, j] * model.x[i, j] for i in model.Locations for j in model.Locations)\n",
    "    model.objective = Objective(rule=objective_rule, sense=minimize)\n",
    "\n",
    "    # Constraints\n",
    "    def assignment_rule(model, i):\n",
    "        return sum(model.x[i, j] for j in model.Locations) == 1\n",
    "    model.assignment_constraint = Constraint(model.Locations, rule=assignment_rule)\n",
    "\n",
    "    def capacity_rule(model, j):\n",
    "        return sum(model.Demand[i] * model.x[i, j] for i in model.Locations) <= model.Capacity[j] * model.y[j]\n",
    "    model.capacity_constraint = Constraint(model.Locations, rule=capacity_rule)\n",
    "\n",
    "    def open_center_rule(model, i, j):\n",
    "        return model.x[i, j] <= model.y[j]\n",
    "    model.open_center_constraint = Constraint(model.Locations, model.Locations, rule=open_center_rule)\n",
    "\n",
    "    def number_of_centers_rule(model):\n",
    "        return sum(model.y[j] for j in model.Locations) == k\n",
    "    model.num_centers_constraint = Constraint(rule=number_of_centers_rule)\n",
    "\n",
    "    # Solve the model\n",
    "    solver = SolverFactory('glpk')\n",
    "    result = solver.solve(model)\n",
    "\n",
    "    if (result.solver.status == 'ok') and (result.solver.termination_condition == 'optimal'):\n",
    "        # Count the selected centers\n",
    "        for j in model.Locations:\n",
    "            if model.y[j].value == 1:\n",
    "                selected_centers_count[j] += 1\n",
    "    else:\n",
    "        infeasible_count += 1"
   ]
  },
  {
   "cell_type": "code",
   "execution_count": 47,
   "id": "1d9faea6",
   "metadata": {
    "colab": {
     "base_uri": "https://localhost:8080/",
     "height": 472
    },
    "id": "1d9faea6",
    "outputId": "ee6c6256-ef81-4148-fe85-14b0f2ea893a"
   },
   "outputs": [
    {
     "data": {
      "image/png": "[encoded data removed]",
      "text/plain": [
       "<Figure size 640x480 with 1 Axes>"
      ]
     },
     "metadata": {},
     "output_type": "display_data"
    }
   ],
   "source": [
    "# Plot the results\n",
    "locations_with_infeasible = locations + [\"Infeasible\"]\n",
    "frequencies = [selected_centers_count[loc] for loc in locations] + [infeasible_count]\n",
    "\n",
    "plt.bar(locations_with_infeasible, frequencies, color=['blue', 'blue', 'blue', 'blue', 'red'])\n",
    "plt.title('Frequency of Selected Centers and Infeasibilities')\n",
    "plt.xlabel('Locations and Infeasibility')\n",
    "plt.ylabel('Frequency')\n",
    "plt.show()"
   ]
  },
  {
   "cell_type": "markdown",
   "id": "ae77bd98",
   "metadata": {
    "id": "ae77bd98"
   },
   "source": [
    "### Non-Deterministic Demand & Capacity"
   ]
  },
  {
   "cell_type": "markdown",
   "id": "5b2b759d",
   "metadata": {
    "id": "5b2b759d"
   },
   "source": [
    "In this case, we treat capacity also as a normal distribution. We iterate in the same manner as explained in the previous part. Note that we have considered the standard deviation of the capacity significantly smaller than the standard deviation of the demand, as to be expected in real scenarios."
   ]
  },
  {
   "cell_type": "code",
   "execution_count": 48,
   "id": "ee66471a",
   "metadata": {
    "id": "ee66471a"
   },
   "outputs": [],
   "source": [
    "# Define locations and distances\n",
    "locations = ['L1', 'L2', 'L3', 'L4']\n",
    "distances = {\n",
    "    ('L1', 'L1'): 0, ('L1', 'L2'): 10, ('L1', 'L3'): 20, ('L1', 'L4'): 30,\n",
    "    ('L2', 'L1'): 10, ('L2', 'L2'): 0, ('L2', 'L3'): 15, ('L2', 'L4'): 25,\n",
    "    ('L3', 'L1'): 20, ('L3', 'L2'): 15, ('L3', 'L3'): 0, ('L3', 'L4'): 35,\n",
    "    ('L4', 'L1'): 30, ('L4', 'L2'): 25, ('L4', 'L3'): 35, ('L4', 'L4'): 0\n",
    "}\n",
    "k = 3\n",
    "mean_demand = 10\n",
    "std_dev_demand = 4\n",
    "base_capacity = 30  # Base capacity\n",
    "capacity_volatility = 0.1  # ±10% variation\n",
    "\n",
    "# Simulation parameters\n",
    "n_simulations = 2000  # Number of Monte Carlo simulations\n",
    "selected_centers_count = Counter()\n",
    "infeasible_count = 0"
   ]
  },
  {
   "cell_type": "code",
   "execution_count": 49,
   "id": "1d8c16fd",
   "metadata": {
    "id": "1d8c16fd"
   },
   "outputs": [],
   "source": [
    "# Monte Carlo simulation\n",
    "for sim in range(n_simulations):\n",
    "    # Generate random demands and capacities\n",
    "    demands = {loc: max(0, int(np.random.normal(mean_demand, std_dev_demand))) for loc in locations}\n",
    "    capacities = {loc: int(base_capacity * (1 + np.random.uniform(-capacity_volatility, capacity_volatility))) for loc in locations}\n",
    "\n",
    "    total_demand = sum(demands.values())\n",
    "    total_capacity = k * max(capacities.values())\n",
    "\n",
    "    if total_demand > total_capacity:\n",
    "        infeasible_count += 1\n",
    "        continue  # Skip this iteration if infeasible\n",
    "\n",
    "    # Create a Pyomo model\n",
    "    model = ConcreteModel()\n",
    "    model.Locations = Set(initialize=locations)\n",
    "    model.Demand = Param(model.Locations, initialize=demands)\n",
    "    model.Capacity = Param(model.Locations, initialize=capacities)\n",
    "    model.Distance = Param(model.Locations, model.Locations, initialize=distances)\n",
    "    model.x = Var(model.Locations, model.Locations, domain=Binary)\n",
    "    model.y = Var(model.Locations, domain=Binary)\n",
    "\n",
    "    # Objective\n",
    "    def objective_rule(model):\n",
    "        return sum(model.Distance[i, j] * model.x[i, j] for i in model.Locations for j in model.Locations)\n",
    "    model.objective = Objective(rule=objective_rule, sense=minimize)\n",
    "\n",
    "    # Constraints\n",
    "    def assignment_rule(model, i):\n",
    "        return sum(model.x[i, j] for j in model.Locations) == 1\n",
    "    model.assignment_constraint = Constraint(model.Locations, rule=assignment_rule)\n",
    "\n",
    "    def capacity_rule(model, j):\n",
    "        return sum(model.Demand[i] * model.x[i, j] for i in model.Locations) <= model.Capacity[j] * model.y[j]\n",
    "    model.capacity_constraint = Constraint(model.Locations, rule=capacity_rule)\n",
    "\n",
    "    def open_center_rule(model, i, j):\n",
    "        return model.x[i, j] <= model.y[j]\n",
    "    model.open_center_constraint = Constraint(model.Locations, model.Locations, rule=open_center_rule)\n",
    "\n",
    "    def number_of_centers_rule(model):\n",
    "        return sum(model.y[j] for j in model.Locations) == k\n",
    "    model.num_centers_constraint = Constraint(rule=number_of_centers_rule)\n",
    "\n",
    "    # Solve the model\n",
    "    solver = SolverFactory('glpk')\n",
    "    result = solver.solve(model)\n",
    "\n",
    "    if (result.solver.status == 'ok') and (result.solver.termination_condition == 'optimal'):\n",
    "        # Count the selected centers\n",
    "        for j in model.Locations:\n",
    "            if model.y[j].value == 1:\n",
    "                selected_centers_count[j] += 1\n",
    "    else:\n",
    "        infeasible_count += 1"
   ]
  },
  {
   "cell_type": "code",
   "execution_count": 50,
   "id": "9e5f6db5",
   "metadata": {
    "colab": {
     "base_uri": "https://localhost:8080/",
     "height": 472
    },
    "id": "9e5f6db5",
    "outputId": "1f7c084a-92f5-48df-b9cf-8cf4f2c22e6a"
   },
   "outputs": [
    {
     "data": {
      "image/png": "[encoded data removed]",
      "text/plain": [
       "<Figure size 640x480 with 1 Axes>"
      ]
     },
     "metadata": {},
     "output_type": "display_data"
    }
   ],
   "source": [
    "# Plot the results\n",
    "locations_with_infeasible = locations + [\"Infeasible\"]\n",
    "frequencies = [selected_centers_count[loc] for loc in locations] + [infeasible_count]\n",
    "\n",
    "plt.bar(locations_with_infeasible, frequencies, color=['blue', 'blue', 'blue', 'blue', 'red'])\n",
    "plt.title('Frequency of Selected Centers and Infeasibilities')\n",
    "plt.xlabel('Locations and Infeasibility')\n",
    "plt.ylabel('Frequency')\n",
    "plt.show()"
   ]
  },
  {
   "cell_type": "markdown",
   "id": "b59ffa2e",
   "metadata": {
    "id": "b59ffa2e"
   },
   "source": [
    "## Competitive Facility Location Problem"
   ]
  },
  {
   "cell_type": "code",
   "execution_count": 51,
   "id": "fc243314",
   "metadata": {
    "id": "fc243314"
   },
   "outputs": [],
   "source": [
    "# Sample data\n",
    "customers = [1, 2, 3, 4, 5]  # Customer locations (IDs)\n",
    "facilities = [1, 2, 3, 4, 5]  # Candidate facility locations (IDs)\n",
    "\n",
    "# Distances between customers and facilities (rows: customers, cols: facilities)\n",
    "distances = {\n",
    "    (1, 1): 2, (1, 2): 5, (1, 3): 8, (1, 4): 6, (1, 5): 3,\n",
    "    (2, 1): 7, (2, 2): 3, (2, 3): 4, (2, 4): 5, (2, 5): 9,\n",
    "    (3, 1): 6, (3, 2): 4, (3, 3): 3, (3, 4): 8, (3, 5): 7,\n",
    "    (4, 1): 5, (4, 2): 7, (4, 3): 2, (4, 4): 4, (4, 5): 6,\n",
    "    (5, 1): 8, (5, 2): 6, (5, 3): 5, (5, 4): 3, (5, 5): 2,\n",
    "}\n",
    "\n",
    "# Parameters\n",
    "num_facilities = {1: 2, 2: 1}  # Facilities each competitor can open\n",
    "max_distance = 6              # Maximum allowable distance for coverage"
   ]
  },
  {
   "cell_type": "code",
   "execution_count": 52,
   "id": "9341c098",
   "metadata": {
    "id": "9341c098"
   },
   "outputs": [],
   "source": [
    "# Create the Pyomo model\n",
    "model = ConcreteModel()\n",
    "\n",
    "# Sets\n",
    "model.customers = Set(initialize=customers)\n",
    "model.facilities = Set(initialize=facilities)\n",
    "model.competitors = Set(initialize=[1, 2])  # Competitor 1 and 2"
   ]
  },
  {
   "cell_type": "code",
   "execution_count": 53,
   "id": "7900bb8b",
   "metadata": {
    "id": "7900bb8b"
   },
   "outputs": [],
   "source": [
    "# Decision variables\n",
    "model.x = Var(model.competitors, model.facilities, within=Binary)  # 1 if a competitor opens a facility\n",
    "model.y = Var(model.competitors, model.customers, model.facilities, within=Binary)  # Assignment of customers"
   ]
  },
  {
   "cell_type": "code",
   "execution_count": 54,
   "id": "bdcdf75f",
   "metadata": {
    "id": "bdcdf75f"
   },
   "outputs": [],
   "source": [
    "# Objective: Minimize the total cost for both competitors\n",
    "model.obj = Objective(\n",
    "    expr=sum(model.y[k, j, i] * distances[j, i] for k in model.competitors for j in model.customers for i in model.facilities),\n",
    "    sense=minimize\n",
    ")"
   ]
  },
  {
   "cell_type": "code",
   "execution_count": 55,
   "id": "f79056a5",
   "metadata": {
    "id": "f79056a5"
   },
   "outputs": [],
   "source": [
    "# Constraints: Each customer must be served by one competitor\n",
    "model.customer_served = ConstraintList()\n",
    "for j in model.customers:\n",
    "    model.customer_served.add(sum(model.y[k, j, i] for k in model.competitors for i in model.facilities) == 1)\n",
    "\n",
    "# Constraints: Customers can only be assigned to facilities within the maximum allowable distance\n",
    "model.max_distance = ConstraintList()\n",
    "for k in model.competitors:\n",
    "    for j in model.customers:\n",
    "        for i in model.facilities:\n",
    "            if distances[j, i] > max_distance:\n",
    "                model.max_distance.add(model.y[k, j, i] == 0)\n",
    "\n",
    "# Constraints: Customers can only be assigned to open facilities\n",
    "model.open_facilities = ConstraintList()\n",
    "for k in model.competitors:\n",
    "    for j in model.customers:\n",
    "        for i in model.facilities:\n",
    "            model.open_facilities.add(model.y[k, j, i] <= model.x[k, i])\n",
    "\n",
    "# Constraints: Each competitor can open a limited number of facilities\n",
    "model.facility_limit = ConstraintList()\n",
    "for k in model.competitors:\n",
    "    model.facility_limit.add(sum(model.x[k, i] for i in model.facilities) == num_facilities[k])"
   ]
  },
  {
   "cell_type": "code",
   "execution_count": 56,
   "id": "afc63311",
   "metadata": {
    "colab": {
     "base_uri": "https://localhost:8080/"
    },
    "id": "afc63311",
    "outputId": "ca73a824-4740-4c9d-b5eb-89ef9ec13af7"
   },
   "outputs": [
    {
     "name": "stdout",
     "output_type": "stream",
     "text": [
      "Facility Locations Opened by Competitors:\n",
      "Competitor 1:\n",
      "  Facility at location 2\n",
      "  Facility at location 3\n",
      "Competitor 2:\n",
      "  Facility at location 5\n",
      "\n",
      "Customer Assignments:\n",
      "Customer 1 is served by Competitor 2 at Facility 5\n",
      "Customer 2 is served by Competitor 1 at Facility 2\n",
      "Customer 3 is served by Competitor 1 at Facility 3\n",
      "Customer 4 is served by Competitor 1 at Facility 3\n",
      "Customer 5 is served by Competitor 2 at Facility 5\n",
      "\n",
      "Total Cost: 13.0\n"
     ]
    }
   ],
   "source": [
    "# Solve the model\n",
    "solver = SolverFactory('glpk')  # Ensure GLPK is installed or use another solver\n",
    "result = solver.solve(model)\n",
    "\n",
    "# Display the results\n",
    "print(\"Facility Locations Opened by Competitors:\")\n",
    "for k in model.competitors:\n",
    "    print(f\"Competitor {k}:\")\n",
    "    for i in model.facilities:\n",
    "        if model.x[k, i].value == 1:\n",
    "            print(f\"  Facility at location {i}\")\n",
    "\n",
    "print(\"\\nCustomer Assignments:\")\n",
    "for j in model.customers:\n",
    "    for k in model.competitors:\n",
    "        for i in model.facilities:\n",
    "            if model.y[k, j, i].value == 1:\n",
    "                print(f\"Customer {j} is served by Competitor {k} at Facility {i}\")\n",
    "\n",
    "print(f\"\\nTotal Cost: {model.obj.expr()}\")"
   ]
  },
  {
   "cell_type": "code",
   "execution_count": 57,
   "id": "0514f3f0",
   "metadata": {
    "colab": {
     "base_uri": "https://localhost:8080/"
    },
    "id": "0514f3f0",
    "outputId": "5db51532-84b3-4851-fd83-bc639d83936b"
   },
   "outputs": [
    {
     "name": "stdout",
     "output_type": "stream",
     "text": [
      "Solver Status: ok\n",
      "Solver Termination Condition: optimal\n"
     ]
    }
   ],
   "source": [
    "#Checking if solver has reached optimum\n",
    "results = solver.solve(model)\n",
    "print(\"Solver Status:\", results.solver.status)\n",
    "print(\"Solver Termination Condition:\", results.solver.termination_condition)"
   ]
  },
  {
   "cell_type": "code",
   "execution_count": 59,
   "id": "i67tvSDQHVeH",
   "metadata": {
    "colab": {
     "base_uri": "https://localhost:8080/"
    },
    "id": "i67tvSDQHVeH",
    "outputId": "e6f1585f-4d26-4442-bf59-bbea9dccd937"
   },
   "outputs": [
    {
     "name": "stdout",
     "output_type": "stream",
     "text": [
      "Solver Status: ok\n",
      "Solver Termination Condition: optimal\n"
     ]
    }
   ],
   "source": [
    "#Checking if solver has reached optimum\n",
    "results = solver.solve(model)\n",
    "print(\"Solver Status:\", results.solver.status)\n",
    "print(\"Solver Termination Condition:\", results.solver.termination_condition)"
   ]
  },
  {
   "cell_type": "markdown",
   "id": "25091e92",
   "metadata": {},
   "source": [
    "### Another Approach"
   ]
  },
  {
   "cell_type": "code",
   "execution_count": 1,
   "id": "42a6bd34",
   "metadata": {},
   "outputs": [],
   "source": [
    "from pyomo.environ import *\n",
    "from pyomo.opt import SolverFactory\n",
    "\n",
    "# Problem Parameters\n",
    "n_customers = 10  # Number of customer points\n",
    "n_facilities = 10  # Number of candidate facility locations\n",
    "m_competitors = 3  # Number of competitors\n",
    "alpha = {1: 2, 2: 1, 3:2}  # Number of facilities each competitor can open\n",
    "lambda_threshold = 2  # Maximum distance for coverage\n",
    "min_unique_locations = 3  # Minimum unique facility locations across competitors\n",
    "customer_demand = {j: 1 for j in range(1, n_customers + 1)}  # Demand at each customer point\n",
    "\n",
    "# Distance matrix (random values here; replace with actual distances)\n",
    "import random\n",
    "random.seed(22)\n",
    "distances = {(i, j): random.randint(1, 5) for i in range(1, n_facilities + 1) for j in range(1, n_customers + 1)}\n",
    "\n",
    "# Set of candidate locations and customer points\n",
    "I = range(1, n_facilities + 1)\n",
    "J = range(1, n_customers + 1)\n",
    "\n",
    "# Pyomo Model\n",
    "model = ConcreteModel()\n",
    "\n",
    "# Sets\n",
    "model.I = Set(initialize=I)  # Facility locations\n",
    "model.J = Set(initialize=J)  # Customer points\n",
    "model.K = Set(initialize=range(1, m_competitors + 1))  # Competitors\n"
   ]
  },
  {
   "cell_type": "code",
   "execution_count": 2,
   "id": "3413ca04",
   "metadata": {},
   "outputs": [],
   "source": [
    "# Parameters\n",
    "model.distances = Param(model.I, model.J, initialize=distances)\n",
    "model.customer_demand = Param(model.J, initialize=customer_demand)\n",
    "model.lambda_threshold = lambda_threshold\n",
    "model.alpha = Param(model.K, initialize=alpha)\n",
    "\n",
    "# Variables\n",
    "model.x = Var(model.K, model.I, domain=Binary)  # Whether competitor k places a facility at i\n",
    "model.z = Var(model.K, model.I, model.J, domain=Binary)  # Whether customer j is covered by competitor k at facility i\n",
    "model.pi = Var(model.K, domain=NonNegativeReals)  # Total demand covered by each competitor\n",
    "model.y = Var(model.I, domain=Binary)  # Whether any facility is opened at location i\n",
    "\n",
    "# Objective: Maximize total demand coverage for both competitors\n",
    "model.objective = Objective(expr=sum(model.pi[k] for k in model.K), sense=maximize)"
   ]
  },
  {
   "cell_type": "code",
   "execution_count": 3,
   "id": "3657b1dd",
   "metadata": {},
   "outputs": [],
   "source": [
    "# Constraints\n",
    "def coverage_constraint(model, k, j):\n",
    "    \"\"\"Ensure customer demand is covered by at most one facility per competitor.\"\"\"\n",
    "    return sum(model.z[k, i, j] for i in model.I if model.distances[i, j] <= model.lambda_threshold) <= 1\n",
    "\n",
    "model.coverage_constraint = Constraint(model.K, model.J, rule=coverage_constraint)\n",
    "\n",
    "def demand_coverage_constraint(model, k):\n",
    "    \"\"\"Calculate total demand covered by each competitor.\"\"\"\n",
    "    return model.pi[k] == sum(\n",
    "        model.customer_demand[j] *\n",
    "        sum(model.z[k, i, j] for i in model.I if model.distances[i, j] <= model.lambda_threshold)\n",
    "        for j in model.J\n",
    "    )\n",
    "\n",
    "model.demand_coverage_constraint = Constraint(model.K, rule=demand_coverage_constraint)\n",
    "\n",
    "def facility_limit_constraint(model, k):\n",
    "    \"\"\"Limit the number of facilities opened by each competitor.\"\"\"\n",
    "    return sum(model.x[k, i] for i in model.I) == model.alpha[k]\n",
    "\n",
    "model.facility_limit_constraint = Constraint(model.K, rule=facility_limit_constraint)\n",
    "\n",
    "def facility_activation_constraint(model, k, i, j):\n",
    "    \"\"\"Customer can be covered only if a facility exists at the location.\"\"\"\n",
    "    return model.z[k, i, j] <= model.x[k, i]\n",
    "\n",
    "model.facility_activation_constraint = Constraint(model.K, model.I, model.J, rule=facility_activation_constraint)\n",
    "\n",
    "# Constraints for Unique Locations\n",
    "def link_y_to_x_constraint(model, i):\n",
    "    \"\"\"Link y[i] to competitors' facility decisions.\"\"\"\n",
    "    return model.y[i] >= sum(model.x[k, i] for k in model.K) / m_competitors\n",
    "\n",
    "model.link_y_to_x_constraint = Constraint(model.I, rule=link_y_to_x_constraint)\n",
    "\n",
    "def min_unique_locations_constraint(model):\n",
    "    \"\"\"Ensure a minimum number of unique facility locations.\"\"\"\n",
    "    return sum(model.y[i] for i in model.I) >= min_unique_locations\n",
    "\n",
    "model.min_unique_locations_constraint = Constraint(rule=min_unique_locations_constraint)\n",
    "\n",
    "# Exclusivity Constraint\n",
    "def exclusivity_constraint(model, i):\n",
    "    \"\"\"Ensure no more than one competitor opens a facility at the same location.\"\"\"\n",
    "    return sum(model.x[k, i] for k in model.K) <= 1\n",
    "\n",
    "model.exclusivity_constraint = Constraint(model.I, rule=exclusivity_constraint)\n"
   ]
  },
  {
   "cell_type": "code",
   "execution_count": 4,
   "id": "87efd812",
   "metadata": {},
   "outputs": [
    {
     "name": "stdout",
     "output_type": "stream",
     "text": [
      "GLPSOL--GLPK LP/MIP Solver 5.0\n",
      "Parameter(s) specified in the command line:\n",
      " --write /var/folders/b9/cqzf91qd1cb5kkpcpbgg1pmm0000gn/T/tmpd4x81rif.glpk.raw\n",
      " --wglp /var/folders/b9/cqzf91qd1cb5kkpcpbgg1pmm0000gn/T/tmpmao08sls.glpk.glp\n",
      " --cpxlp /var/folders/b9/cqzf91qd1cb5kkpcpbgg1pmm0000gn/T/tmp4apg08a_.pyomo.lp\n",
      "Reading problem data from '/var/folders/b9/cqzf91qd1cb5kkpcpbgg1pmm0000gn/T/tmp4apg08a_.pyomo.lp'...\n",
      "/var/folders/b9/cqzf91qd1cb5kkpcpbgg1pmm0000gn/T/tmp4apg08a_.pyomo.lp:2362: warning: lower bound of variable 'x6' redefined\n",
      "/var/folders/b9/cqzf91qd1cb5kkpcpbgg1pmm0000gn/T/tmp4apg08a_.pyomo.lp:2362: warning: upper bound of variable 'x6' redefined\n",
      "357 rows, 343 columns, 935 non-zeros\n",
      "340 integer variables, all of which are binary\n",
      "2702 lines were read\n",
      "Writing problem data to '/var/folders/b9/cqzf91qd1cb5kkpcpbgg1pmm0000gn/T/tmpmao08sls.glpk.glp'...\n",
      "1998 lines were written\n",
      "GLPK Integer Optimizer 5.0\n",
      "357 rows, 343 columns, 935 non-zeros\n",
      "340 integer variables, all of which are binary\n",
      "Preprocessing...\n",
      "351 rows, 340 columns, 818 non-zeros\n",
      "340 integer variables, all of which are binary\n",
      "Scaling...\n",
      " A: min|aij| =  3.333e-01  max|aij| =  1.000e+00  ratio =  3.000e+00\n",
      "Problem data seem to be well scaled\n",
      "Constructing initial basis...\n",
      "Size of triangular part is 351\n",
      "Solving LP relaxation...\n",
      "GLPK Simplex Optimizer 5.0\n",
      "351 rows, 340 columns, 818 non-zeros\n",
      "      0: obj =  -0.000000000e+00 inf =   1.067e+01 (5)\n",
      "     13: obj =  -0.000000000e+00 inf =   1.110e-16 (0)\n",
      "*   170: obj =   2.400000000e+01 inf =   2.628e-14 (0)\n",
      "OPTIMAL LP SOLUTION FOUND\n",
      "Integer optimization begins...\n",
      "Long-step dual simplex will be used\n",
      "+   170: mip =     not found yet <=              +inf        (1; 0)\n",
      "+   187: >>>>>   2.300000000e+01 <=   2.300000000e+01   0.0% (7; 0)\n",
      "+   187: mip =   2.300000000e+01 <=     tree is empty   0.0% (0; 13)\n",
      "INTEGER OPTIMAL SOLUTION FOUND\n",
      "Time used:   0.0 secs\n",
      "Memory used: 0.6 Mb (660240 bytes)\n",
      "Writing MIP solution to '/var/folders/b9/cqzf91qd1cb5kkpcpbgg1pmm0000gn/T/tmpd4x81rif.glpk.raw'...\n",
      "709 lines were written\n",
      "\n",
      " Optimization Results\n",
      "Competitor 1:\n",
      "  Total Demand Covered: 9.00\n",
      "  Facilities Opened at: [8, 9]\n",
      "Competitor 2:\n",
      "  Total Demand Covered: 7.00\n",
      "  Facilities Opened at: [1]\n",
      "Competitor 3:\n",
      "  Total Demand Covered: 7.00\n",
      "  Facilities Opened at: [2, 10]\n",
      "\n",
      "Facility-Location Matrix (x[k, i]):\n",
      "Competitor 1: [0.0, 0.0, 0.0, 0.0, 0.0, 0.0, 0.0, 1.0, 1.0, 0.0]\n",
      "Competitor 2: [1.0, 0.0, 0.0, 0.0, 0.0, 0.0, 0.0, 0.0, 0.0, 0.0]\n",
      "Competitor 3: [0.0, 1.0, 0.0, 0.0, 0.0, 0.0, 0.0, 0.0, 0.0, 1.0]\n",
      "\n",
      "Unique Facility Locations Used: [1, 2, 8, 9, 10]\n"
     ]
    }
   ],
   "source": [
    "# Solver and Results\n",
    "solver = SolverFactory('glpk')  # Use an appropriate solver\n",
    "results = solver.solve(model, tee=True)\n",
    "\n",
    "# Display Results\n",
    "print(\"\\n Optimization Results\")\n",
    "\n",
    "# Print total demand covered by each competitor\n",
    "for k in model.K:\n",
    "    print(f\"Competitor {k}:\")\n",
    "    print(f\"  Total Demand Covered: {model.pi[k].value:.2f}\")\n",
    "    print(f\"  Facilities Opened at:\", [i for i in model.I if model.x[k, i].value == 1])\n",
    "print()\n",
    "\n",
    "# Facility-location matrix\n",
    "print(\"Facility-Location Matrix (x[k, i]):\")\n",
    "location_matrix = [[model.x[k, i].value for i in model.I] for k in model.K]\n",
    "for k in model.K:\n",
    "    print(f\"Competitor {k}: {location_matrix[k - 1]}\")\n",
    "print()\n",
    "\n",
    "# Print unique locations\n",
    "unique_locations = [i for i in model.I if model.y[i].value > 0.5]\n",
    "print(f\"Unique Facility Locations Used: {unique_locations}\")\n"
   ]
  }
 ],
 "metadata": {
  "colab": {
   "provenance": []
  },
  "kernelspec": {
   "display_name": "Python 3 (ipykernel)",
   "language": "python",
   "name": "python3"
  },
  "language_info": {
   "codemirror_mode": {
    "name": "ipython",
    "version": 3
   },
   "file_extension": ".py",
   "mimetype": "text/x-python",
   "name": "python",
   "nbconvert_exporter": "python",
   "pygments_lexer": "ipython3",
   "version": "3.10.9"
  }
 },
 "nbformat": 4,
 "nbformat_minor": 5
}
